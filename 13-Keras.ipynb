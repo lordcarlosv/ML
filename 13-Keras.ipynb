{
 "cells": [
  {
   "cell_type": "code",
   "execution_count": 1,
   "metadata": {},
   "outputs": [
    {
     "name": "stderr",
     "output_type": "stream",
     "text": [
      "Using TensorFlow backend.\n"
     ]
    }
   ],
   "source": [
    "%matplotlib inline\n",
    "import pandas as pd\n",
    "import numpy as np\n",
    "import matplotlib.pyplot as plt\n",
    "import seaborn as sns\n",
    "import warnings\n",
    "\n",
    "from sklearn.model_selection import cross_val_score, train_test_split, GridSearchCV, StratifiedShuffleSplit\n",
    "from sklearn.preprocessing import Imputer, StandardScaler, MinMaxScaler, RobustScaler, Normalizer, LabelEncoder, LabelBinarizer\n",
    "from sklearn.utils.class_weight import compute_sample_weight\n",
    "from keras.wrappers.scikit_learn import KerasClassifier\n",
    "from keras.models import Sequential\n",
    "from keras.layers import Dense\n",
    "from keras.optimizers import SGD\n",
    "from keras.utils import to_categorical\n",
    "from sklearn import metrics\n",
    "from sklearn.metrics import classification_report, roc_curve, auc\n",
    "from sklearn.pipeline import Pipeline, make_pipeline, FeatureUnion\n",
    "from sklearn.base import BaseEstimator, TransformerMixin\n",
    "from sklearn.exceptions import ConvergenceWarning, UndefinedMetricWarning\n",
    "from scipy import interp\n",
    "\n",
    "warnings.filterwarnings(action='ignore', category=FutureWarning)\n",
    "warnings.filterwarnings(action='ignore', category=DeprecationWarning)\n",
    "warnings.filterwarnings(action='ignore', category=ConvergenceWarning)\n",
    "warnings.filterwarnings(action='ignore', category=UndefinedMetricWarning)\n",
    "\n",
    "data = pd.read_csv('input_train.csv')\n",
    "label = pd.read_csv('challenge_output_data_training_file_prediction_of_transaction_claims_status.csv', ';')\n",
    "all_data = data.merge(label, left_on='ID', right_on='ID', how='inner').copy()\n",
    "claim_order = sorted(all_data['CLAIM_TYPE'].unique())"
   ]
  },
  {
   "cell_type": "markdown",
   "metadata": {},
   "source": [
    "# Fixing Structural Errors"
   ]
  },
  {
   "cell_type": "code",
   "execution_count": 2,
   "metadata": {},
   "outputs": [],
   "source": [
    "# '3/2017' => 201703\n",
    "temp = all_data['BUYING_DATE'].str.split('/')\n",
    "all_data['BUYING_DATE'] = temp.str[1] + temp.str[0].str.zfill(2)\n",
    "all_data['BUYING_DATE'] = all_data['BUYING_DATE'].astype('int32')"
   ]
  },
  {
   "cell_type": "markdown",
   "metadata": {},
   "source": [
    "# Handle Missing Data"
   ]
  },
  {
   "cell_type": "code",
   "execution_count": 3,
   "metadata": {},
   "outputs": [],
   "source": [
    "# To improve the Unbalanced Dataset we can delete the missing values for CLAIM_TYPE= '-'\n",
    "all_data = all_data.drop(all_data[(all_data['CLAIM_TYPE']=='-') & (all_data['BUYER_BIRTHDAY_DATE'].isna()) ].index)\n",
    "all_data = all_data.drop(all_data[(all_data['CLAIM_TYPE']=='-') & (all_data['SELLER_SCORE_AVERAGE'].isna()) ].index)\n",
    "all_data = all_data.drop(all_data[(all_data['CLAIM_TYPE']=='-') & (all_data['SHIPPING_MODE'].isna()) ].index)\n",
    "all_data = all_data.drop(all_data[(all_data['CLAIM_TYPE']=='-') & (all_data['SHIPPING_PRICE'].isna()) ].index)\n",
    "all_data = all_data.drop(all_data[(all_data['CLAIM_TYPE']=='-') & (all_data['PRICECLUB_STATUS'].isna()) ].index)\n",
    "all_data = all_data.drop(all_data[(all_data['CLAIM_TYPE']=='-') & (all_data['SELLER_SCORE_COUNT'].isna()) ].index)\n",
    "\n",
    "# Numerical feature \n",
    "all_data['REGISTRATION_DATE']=all_data['REGISTRATION_DATE'].fillna(-1).values\n",
    "all_data['BUYER_BIRTHDAY_DATE']=all_data['BUYER_BIRTHDAY_DATE'].fillna(-1).values\n",
    "all_data['BUYING_DATE']=all_data['BUYING_DATE'].fillna(-1).values\n",
    "all_data['SELLER_SCORE_AVERAGE']=all_data['SELLER_SCORE_AVERAGE'].fillna(-1).values \n",
    "\n",
    "# WARRANTIES_PRICE: There is not missing value but NON_WARRANTIES\n",
    "all_data['WARRANTIES_PRICE']=all_data['WARRANTIES_PRICE'].fillna('NON_WARRANTIES').values \n",
    "\n",
    "# Categorical Features\n",
    "all_data = all_data.fillna('MISSING')"
   ]
  },
  {
   "cell_type": "markdown",
   "metadata": {},
   "source": [
    "# Filter Unwanted Outliers"
   ]
  },
  {
   "cell_type": "code",
   "execution_count": 4,
   "metadata": {},
   "outputs": [],
   "source": [
    "# Attention with missings values > -1\n",
    "all_data = all_data.drop(all_data[(all_data['BUYER_BIRTHDAY_DATE']<1940) & (all_data['BUYER_BIRTHDAY_DATE']>=0)].index)\n",
    "all_data = all_data.drop(all_data[(all_data['BUYER_BIRTHDAY_DATE']>=2000) ].index)\n",
    "all_data = all_data.drop(all_data[(all_data['SELLER_SCORE_AVERAGE']<40) & (all_data['SELLER_SCORE_AVERAGE']>=0)].index)"
   ]
  },
  {
   "cell_type": "markdown",
   "metadata": {},
   "source": [
    "# Data Type Conversion"
   ]
  },
  {
   "cell_type": "code",
   "execution_count": 5,
   "metadata": {},
   "outputs": [],
   "source": [
    "all_data['BUYER_BIRTHDAY_DATE']=all_data['BUYER_BIRTHDAY_DATE'].astype(np.int16)\n",
    "all_data['SELLER_SCORE_AVERAGE']=all_data['SELLER_SCORE_AVERAGE'].astype(np.int16)\n",
    "all_data['REGISTRATION_DATE']=all_data['REGISTRATION_DATE'].astype(np.int16)\n",
    "all_data['BUYER_DEPARTMENT']=all_data['BUYER_DEPARTMENT'].astype(np.int16)\n",
    "all_data['SELLER_DEPARTMENT']=all_data['SELLER_DEPARTMENT'].astype(np.int16)\n",
    "all_data['CARD_PAYMENT']=all_data['CARD_PAYMENT'].astype(np.bool)\n",
    "all_data['COUPON_PAYMENT']=all_data['COUPON_PAYMENT'].astype(np.bool)\n",
    "all_data['RSP_PAYMENT']=all_data['RSP_PAYMENT'].astype(np.bool)\n",
    "all_data['WALLET_PAYMENT']=all_data['WALLET_PAYMENT'].astype(np.bool)"
   ]
  },
  {
   "cell_type": "markdown",
   "metadata": {},
   "source": [
    "# Sparse Classes"
   ]
  },
  {
   "cell_type": "code",
   "execution_count": 6,
   "metadata": {},
   "outputs": [],
   "source": [
    "top10=all_data['SELLER_COUNTRY'].value_counts().head(10).index\n",
    "all_data.loc[all_data['SELLER_COUNTRY'].isin(top10)==False,'SELLER_COUNTRY'] = 'OTHERS'\n",
    "\n",
    "top10=all_data['SELLER_DEPARTMENT'].value_counts().head(10).index\n",
    "all_data.loc[all_data['SELLER_DEPARTMENT'].isin(top10)==False,'SELLER_DEPARTMENT'] = 'OTHERS'"
   ]
  },
  {
   "cell_type": "markdown",
   "metadata": {},
   "source": [
    "# Encoding"
   ]
  },
  {
   "cell_type": "code",
   "execution_count": 7,
   "metadata": {},
   "outputs": [],
   "source": [
    "factor = pd.factorize(all_data['CLAIM_TYPE'])\n",
    "target_number=factor[0]\n",
    "target_label = factor[1]\n",
    "target_vectoriser=np.vectorize(dict(zip(range(8),target_label)).get)\n",
    "lb=LabelBinarizer()\n",
    "\n",
    "####### Nominal #######\n",
    "all_data = pd.concat([all_data,\n",
    "                                pd.get_dummies(all_data['SHIPPING_MODE'], prefix='SHIPPING_MODE'),\n",
    "                                pd.get_dummies(all_data['SELLER_COUNTRY'], prefix='SELLER_COUNTRY'),\n",
    "                                pd.get_dummies(all_data['PRODUCT_TYPE'], prefix='PRODUCT_TYPE'),\n",
    "                                pd.get_dummies(all_data['PRODUCT_FAMILY'], prefix='PRODUCT_FAMILY'),\n",
    "                                pd.get_dummies(all_data['BUYER_DEPARTMENT'], prefix='BUYER_DEPARTMENT'),\n",
    "                                pd.get_dummies(all_data['SELLER_DEPARTMENT'], prefix='SELLER_DEPARTMENT')\n",
    "                           ],\n",
    "                          axis=1)\n",
    "\n",
    "#######Ordinal #######\n",
    "all_data['PRICECLUB_STATUS'] = all_data['PRICECLUB_STATUS'].map( {'MISSING':0,'UNSUBSCRIBED':1, 'REGULAR': 2, 'SILVER':3, 'GOLD':4, 'PLATINUM':5}).astype(np.int16)\n",
    "all_data['SHIPPING_PRICE'] = all_data['SHIPPING_PRICE'].map( {'MISSING':0,'<1':1, '1<5': 2, '5<10':3, '10<20':4, '>20':5}).astype(np.int16)\n",
    "all_data['WARRANTIES_PRICE'] = all_data['WARRANTIES_PRICE'].map( {'NON_WARRANTIES':0, '<5':1, '5<20': 2, '20<50':3, '50<100':4, '100<500':5}).astype(np.int16)\n",
    "all_data['PURCHASE_COUNT'] = all_data['PURCHASE_COUNT'].map( {'<5':1, '5<20': 2, '20<50':3, '50<100':4, '100<500':5, '>500':6}).astype(np.int16)\n",
    "all_data['SELLER_SCORE_COUNT'] = all_data['SELLER_SCORE_COUNT'].map( {'MISSING':0,'<100':1, '100<1000': 2, '1000<10000':3, '10000<100000':4, '100000<1000000':5}).astype(np.int16)\n",
    "all_data['ITEM_PRICE'] = all_data['ITEM_PRICE'].map( {'<10':0, '10<20': 1, '20<50':2, '50<100':3, '100<500':4, '500<1000':5, '1000<5000':6, '>5000':7}).astype(np.int16)"
   ]
  },
  {
   "cell_type": "markdown",
   "metadata": {},
   "source": [
    "# Remove Unused Features"
   ]
  },
  {
   "cell_type": "code",
   "execution_count": 8,
   "metadata": {},
   "outputs": [],
   "source": [
    "# REMOVAL OF UNUSEFUL FEATURES\n",
    "all_data = all_data.drop([\"ID\"], axis=1)\n",
    "all_data = all_data.drop([\"CLAIM_TYPE\"], axis=1)\n",
    "all_data = all_data.drop(['WARRANTIES_FLG'],  axis=1)\n",
    "\n",
    "# REMOVAL OF FEATURES THAT WERE ENCODED\n",
    "all_data = all_data.drop(['SHIPPING_MODE'],  axis=1)\n",
    "all_data = all_data.drop(['SELLER_COUNTRY'],  axis=1)\n",
    "all_data = all_data.drop(['PRODUCT_FAMILY'],  axis=1)\n",
    "all_data = all_data.drop(['PRODUCT_TYPE'],  axis=1)\n",
    "all_data = all_data.drop(['BUYER_DEPARTMENT'],  axis=1)\n",
    "all_data = all_data.drop(['SELLER_DEPARTMENT'],  axis=1)"
   ]
  },
  {
   "cell_type": "markdown",
   "metadata": {},
   "source": [
    "# Machine Learning"
   ]
  },
  {
   "cell_type": "code",
   "execution_count": 9,
   "metadata": {},
   "outputs": [],
   "source": [
    "def plot_roc_curve(y, y_predicted, n_classes):\n",
    "    # Compute ROC curve and ROC area for each class\n",
    "    fpr, tpr, roc_auc = dict(), dict(), dict()\n",
    "   \n",
    "    #################################### Calcul of ROC by class ####################################\n",
    "    for i in range(n_classes):\n",
    "        fpr[i], tpr[i], _ = roc_curve(y[:, i], y_predicted[:, i])\n",
    "        roc_auc[i] = auc(fpr[i], tpr[i])\n",
    "\n",
    "    #################################### Calcul of ROC micro ####################################\n",
    "    # Compute micro-average ROC curve and ROC area\n",
    "    fpr[\"micro\"], tpr[\"micro\"], _ = roc_curve(y.ravel(), y_predicted.ravel())\n",
    "    roc_auc[\"micro\"] = auc(fpr[\"micro\"], tpr[\"micro\"])\n",
    "\n",
    "    #################################### Calcul of ROC macro ####################################\n",
    "    all_fpr = np.unique(np.concatenate([fpr[i] for i in range(n_classes)])) # First aggregate all false positive rates\n",
    "\n",
    "    # Then interpolate all ROC curves at this points\n",
    "    mean_tpr = np.zeros_like(all_fpr)\n",
    "    for i in range(n_classes):\n",
    "        mean_tpr += interp(all_fpr, fpr[i], tpr[i])\n",
    "    mean_tpr /= n_classes # Finally average it and compute AUC\n",
    "\n",
    "    fpr[\"macro\"] = all_fpr\n",
    "    tpr[\"macro\"] = mean_tpr\n",
    "    roc_auc[\"macro\"] = auc(fpr[\"macro\"], tpr[\"macro\"])\n",
    "\n",
    "    ################################### Plot  ###################################\n",
    "    l1='micro-average (area = {0:0.2f})'.format(roc_auc[\"micro\"])\n",
    "    l2='macro-average (area = {0:0.2f})'.format(roc_auc[\"macro\"])\n",
    "\n",
    "    plt.figure(figsize=(10,10))\n",
    "    plt.plot(fpr[\"micro\"], tpr[\"micro\"], label=l1, color='deeppink', linestyle=':', linewidth=4)\n",
    "    plt.plot(fpr[\"macro\"], tpr[\"macro\"], label=l2, color='navy', linestyle=':', linewidth=4)\n",
    "\n",
    "    for i in range(n_classes):\n",
    "        plt.plot(fpr[i], tpr[i],  lw=2, label='{0} (area = {1:0.2f})'.format(target_vectoriser(i), roc_auc[i]))\n",
    "\n",
    "    plt.plot([0, 1], [0, 1], 'k--', lw=2)\n",
    "    plt.xlabel('False Positive Rate')\n",
    "    plt.ylabel('True Positive Rate')\n",
    "    plt.legend(loc=\"lower right\")\n",
    "    plt.show()"
   ]
  },
  {
   "cell_type": "code",
   "execution_count": 10,
   "metadata": {},
   "outputs": [],
   "source": [
    "numerical, categorical=list(), list()\n",
    "for x in all_data.columns : \n",
    "    if x  in ['REGISTRATION_DATE','BUYER_BIRTHDAY_DATE','BUYING_DATE','SELLER_SCORE_AVERAGE', 'PRICECLUB_STATUS', 'SHIPPING_PRICE', 'WARRANTIES_PRICE', 'PURCHASE_COUNT', 'SELLER_SCORE_COUNT', 'ITEM_PRICE'] :\n",
    "        numerical.append(all_data.columns.get_loc(x))\n",
    "    else :\n",
    "        categorical.append(all_data.columns.get_loc(x))\n",
    "        \n",
    "class ColumnSelector(BaseEstimator, TransformerMixin):\n",
    "    def __init__(self, columns):\n",
    "        self.columns = columns\n",
    "\n",
    "    def fit(self, X, y=None):\n",
    "        return self\n",
    "\n",
    "    def transform(self, X):\n",
    "        return X[:,self.columns]\n",
    "\n",
    "def create_network(nfeatures, nhiddenUnits):\n",
    "    model = Sequential()\n",
    "    model.add(Dense(nhiddenUnits, input_dim=nfeatures, activation='relu'))\n",
    "    model.add(Dense(8, activation='softmax'))\n",
    "\n",
    "    sgd = SGD(lr=0.001, decay=1e-6, momentum=0.9, nesterov=True) #stochastic gradient descent\n",
    "    model.compile(loss='categorical_crossentropy', optimizer=sgd, metrics=['accuracy'])\n",
    "    return model\n"
   ]
  },
  {
   "cell_type": "code",
   "execution_count": 11,
   "metadata": {},
   "outputs": [],
   "source": [
    "def run_gridSearchCV(scaler):\n",
    "    \n",
    "    X_train, X_test, y_train, y_test = train_test_split(all_data.values, target_number, test_size=0.20, random_state=0, stratify=target_number)\n",
    "    w=compute_sample_weight(class_weight='balanced', y=y_train) \n",
    "    imputer = Imputer(strategy='mean', missing_values=-1) \n",
    "    nfeatures=all_data.shape[1]\n",
    "    \n",
    "    cv = StratifiedShuffleSplit(5, test_size=0.2, random_state=0)\n",
    "    classifier = KerasClassifier(build_fn=create_network, nfeatures=nfeatures, nhiddenUnits=295) \n",
    "    \n",
    "    pNumerical = make_pipeline(ColumnSelector(columns=numerical), scaler)\n",
    "    pCategorical = make_pipeline(ColumnSelector(columns=categorical))\n",
    "    pNumericalCategorical=FeatureUnion(n_jobs =1, transformer_list=[('1',pNumerical),('2',pCategorical)])\n",
    "    pipeline = Pipeline((('imp', imputer), ('pls', pNumericalCategorical), ('clf', classifier)))\n",
    "    \n",
    "    params = {\n",
    "        'clf__epochs': np.linspace(10,50,21, dtype=int)\n",
    "    }\n",
    "    gs = GridSearchCV(pipeline, params, cv=cv, n_jobs=1, scoring='f1_weighted', return_train_score =True)\n",
    "    gs.fit(X_train, y_train, **{'clf__sample_weight': w, 'clf__batch_size':10, 'clf__verbose':0})\n",
    "\n",
    "    cv_results = pd.DataFrame(gs.cv_results_)[['param_clf__epochs', 'mean_test_score', 'std_test_score']]\n",
    "    cv_results.sort_values(by='mean_test_score', ascending=False, inplace=True)\n",
    "    print(gs.best_params_)\n",
    "\n",
    "    plt.figure(figsize=(10,5))\n",
    "    plt.subplot(2,1,1)\n",
    "    plt.plot(cv_results['param_clf__epochs'],cv_results['mean_test_score'],'-o')\n",
    "    plt.subplot(2,1,2)\n",
    "    plt.plot(cv_results['param_clf__epochs'],cv_results['std_test_score'],'-o')\n",
    "    plt.show()"
   ]
  },
  {
   "cell_type": "code",
   "execution_count": 12,
   "metadata": {},
   "outputs": [
    {
     "name": "stdout",
     "output_type": "stream",
     "text": [
      "WARNING:tensorflow:From C:\\ProgramData\\Anaconda3\\lib\\site-packages\\tensorflow\\python\\framework\\op_def_library.py:263: colocate_with (from tensorflow.python.framework.ops) is deprecated and will be removed in a future version.\n",
      "Instructions for updating:\n",
      "Colocations handled automatically by placer.\n",
      "WARNING:tensorflow:From C:\\ProgramData\\Anaconda3\\lib\\site-packages\\tensorflow\\python\\ops\\math_ops.py:3066: to_int32 (from tensorflow.python.ops.math_ops) is deprecated and will be removed in a future version.\n",
      "Instructions for updating:\n",
      "Use tf.cast instead.\n",
      "{'clf__epochs': 38}\n"
     ]
    },
    {
     "data": {
      "image/png": "[encoded data removed]",
      "text/plain": [
       "<Figure size 720x360 with 2 Axes>"
      ]
     },
     "metadata": {
      "needs_background": "light"
     },
     "output_type": "display_data"
    },
    {
     "name": "stdout",
     "output_type": "stream",
     "text": [
      "Wall time: 7h 44min 26s\n"
     ]
    }
   ],
   "source": [
    "%%time\n",
    "run_gridSearchCV(StandardScaler())"
   ]
  },
  {
   "cell_type": "code",
   "execution_count": null,
   "metadata": {},
   "outputs": [],
   "source": [
    "%%time\n",
    "run_gridSearchCV(MinMaxScaler())"
   ]
  },
  {
   "cell_type": "code",
   "execution_count": null,
   "metadata": {},
   "outputs": [],
   "source": [
    "%%time\n",
    "run_gridSearchCV(RobustScaler())"
   ]
  },
  {
   "cell_type": "code",
   "execution_count": null,
   "metadata": {},
   "outputs": [],
   "source": [
    "%%time\n",
    "run_gridSearchCV(Normalizer())"
   ]
  },
  {
   "cell_type": "code",
   "execution_count": 12,
   "metadata": {},
   "outputs": [],
   "source": [
    "def run_classifier(_epochs, scaler):\n",
    "    X_train, X_test, y_train, y_test = train_test_split(all_data.values, target_number, test_size=0.20, random_state=0, stratify=target_number)\n",
    "    w=compute_sample_weight(class_weight='balanced', y=y_train) \n",
    "    imputer = Imputer(strategy='mean', missing_values=-1) \n",
    "    nfeatures=all_data.shape[1]\n",
    "\n",
    "    classifier = KerasClassifier(build_fn=create_network, nfeatures=nfeatures, nhiddenUnits=295)\n",
    "    pNumerical = make_pipeline(ColumnSelector(columns=numerical), scaler)\n",
    "    pCategorical = make_pipeline(ColumnSelector(columns=categorical))\n",
    "    pNumericalCategorical=FeatureUnion([('1',pNumerical),('2',pCategorical)])\n",
    "    pipeline = Pipeline((('imp', imputer), ('pls', pNumericalCategorical), ('clf', classifier)))\n",
    "\n",
    "    pipeline.fit(X_train, y_train, **{'clf__sample_weight': w, 'clf__epochs': _epochs, 'clf__batch_size':10, 'clf__verbose':0})\n",
    "    y_test_predicted = pipeline.predict(X_test)\n",
    "    y_test_predicted_label = target_vectoriser(y_test_predicted)\n",
    "    y_test_label = target_vectoriser(y_test)\n",
    "    print('f1_score:      ',metrics.f1_score(y_test, y_test_predicted, average='weighted'), '\\nroc_auc_score: ', metrics.roc_auc_score(lb.fit_transform(y_test), lb.fit_transform(y_test_predicted), average='weighted'), '\\n')\n",
    "    print(classification_report(y_test_label, y_test_predicted_label))"
   ]
  },
  {
   "cell_type": "code",
   "execution_count": 19,
   "metadata": {},
   "outputs": [
    {
     "name": "stdout",
     "output_type": "stream",
     "text": [
      "f1_score:       0.4066408652855634 \n",
      "roc_auc_score:  0.6560325260667542 \n",
      "\n",
      "                          precision    recall  f1-score   support\n",
      "\n",
      "                       -       0.60      0.82      0.69      3059\n",
      "                 DAMAGED       0.23      0.27      0.25      1159\n",
      "               DIFFERENT       0.16      0.33      0.21       836\n",
      "                    FAKE       0.04      0.25      0.06        24\n",
      "            NOT_RECEIVED       0.57      0.30      0.40      2831\n",
      "SELLER_CANCEL_POSTERIORI       0.57      0.25      0.34      2698\n",
      "               UNDEFINED       0.22      0.27      0.24       790\n",
      "              WITHDRAWAL       0.25      0.30      0.27      1365\n",
      "\n",
      "             avg / total       0.46      0.41      0.41     12762\n",
      "\n",
      "Wall time: 8min 38s\n"
     ]
    }
   ],
   "source": [
    "%%time\n",
    "run_classifier(38, StandardScaler())"
   ]
  },
  {
   "cell_type": "code",
   "execution_count": 13,
   "metadata": {},
   "outputs": [
    {
     "name": "stdout",
     "output_type": "stream",
     "text": [
      "WARNING:tensorflow:From C:\\ProgramData\\Anaconda3\\lib\\site-packages\\tensorflow\\python\\framework\\op_def_library.py:263: colocate_with (from tensorflow.python.framework.ops) is deprecated and will be removed in a future version.\n",
      "Instructions for updating:\n",
      "Colocations handled automatically by placer.\n",
      "WARNING:tensorflow:From C:\\ProgramData\\Anaconda3\\lib\\site-packages\\tensorflow\\python\\ops\\math_ops.py:3066: to_int32 (from tensorflow.python.ops.math_ops) is deprecated and will be removed in a future version.\n",
      "Instructions for updating:\n",
      "Use tf.cast instead.\n",
      "f1_score:       0.4211887538667297 \n",
      "roc_auc_score:  0.6615232785477804 \n",
      "\n",
      "                          precision    recall  f1-score   support\n",
      "\n",
      "                       -       0.59      0.83      0.69      3059\n",
      "                 DAMAGED       0.24      0.24      0.24      1159\n",
      "               DIFFERENT       0.16      0.26      0.20       836\n",
      "                    FAKE       0.04      0.21      0.07        24\n",
      "            NOT_RECEIVED       0.53      0.38      0.44      2831\n",
      "SELLER_CANCEL_POSTERIORI       0.53      0.29      0.38      2698\n",
      "               UNDEFINED       0.22      0.25      0.24       790\n",
      "              WITHDRAWAL       0.27      0.27      0.27      1365\n",
      "\n",
      "             avg / total       0.45      0.43      0.42     12762\n",
      "\n",
      "Wall time: 8min 28s\n"
     ]
    }
   ],
   "source": [
    "%%time\n",
    "run_classifier(38, MinMaxScaler())"
   ]
  },
  {
   "cell_type": "code",
   "execution_count": 14,
   "metadata": {},
   "outputs": [
    {
     "name": "stdout",
     "output_type": "stream",
     "text": [
      "f1_score:       0.4166302534523425 \n",
      "roc_auc_score:  0.6594210130869387 \n",
      "\n",
      "                          precision    recall  f1-score   support\n",
      "\n",
      "                       -       0.61      0.79      0.69      3059\n",
      "                 DAMAGED       0.23      0.40      0.29      1159\n",
      "               DIFFERENT       0.17      0.22      0.19       836\n",
      "                    FAKE       0.07      0.21      0.11        24\n",
      "            NOT_RECEIVED       0.55      0.32      0.41      2831\n",
      "SELLER_CANCEL_POSTERIORI       0.55      0.29      0.38      2698\n",
      "               UNDEFINED       0.20      0.28      0.23       790\n",
      "              WITHDRAWAL       0.25      0.26      0.26      1365\n",
      "\n",
      "             avg / total       0.46      0.42      0.42     12762\n",
      "\n",
      "Wall time: 8min 26s\n"
     ]
    }
   ],
   "source": [
    "%%time\n",
    "run_classifier(38, RobustScaler())"
   ]
  },
  {
   "cell_type": "code",
   "execution_count": 15,
   "metadata": {},
   "outputs": [
    {
     "name": "stdout",
     "output_type": "stream",
     "text": [
      "f1_score:       0.3558542439560549 \n",
      "roc_auc_score:  0.6197787932977274 \n",
      "\n",
      "                          precision    recall  f1-score   support\n",
      "\n",
      "                       -       0.52      0.61      0.56      3059\n",
      "                 DAMAGED       0.19      0.26      0.22      1159\n",
      "               DIFFERENT       0.16      0.16      0.16       836\n",
      "                    FAKE       0.02      0.21      0.04        24\n",
      "            NOT_RECEIVED       0.49      0.29      0.36      2831\n",
      "SELLER_CANCEL_POSTERIORI       0.49      0.25      0.33      2698\n",
      "               UNDEFINED       0.17      0.37      0.23       790\n",
      "              WITHDRAWAL       0.23      0.27      0.25      1365\n",
      "\n",
      "             avg / total       0.40      0.35      0.36     12762\n",
      "\n",
      "Wall time: 8min 35s\n"
     ]
    }
   ],
   "source": [
    "%%time\n",
    "run_classifier(38, Normalizer())"
   ]
  },
  {
   "cell_type": "code",
   "execution_count": 16,
   "metadata": {},
   "outputs": [
    {
     "name": "stdout",
     "output_type": "stream",
     "text": [
      "f1_score:       0.41033594766520826 \n",
      "roc_auc_score:  0.6554518572639764 \n",
      "\n",
      "                          precision    recall  f1-score   support\n",
      "\n",
      "                       -       0.61      0.78      0.68      3059\n",
      "                 DAMAGED       0.22      0.31      0.25      1159\n",
      "               DIFFERENT       0.15      0.25      0.19       836\n",
      "                    FAKE       0.06      0.25      0.10        24\n",
      "            NOT_RECEIVED       0.60      0.27      0.37      2831\n",
      "SELLER_CANCEL_POSTERIORI       0.50      0.35      0.42      2698\n",
      "               UNDEFINED       0.19      0.33      0.24       790\n",
      "              WITHDRAWAL       0.28      0.21      0.24      1365\n",
      "\n",
      "             avg / total       0.45      0.41      0.41     12762\n",
      "\n"
     ]
    }
   ],
   "source": [
    "X_train, X_test, y_train, y_test = train_test_split(all_data.values, target_number, test_size=0.20, random_state=0, stratify=target_number)\n",
    "w=compute_sample_weight(class_weight='balanced', y=y_train) \n",
    "imputer = Imputer(strategy='mean', missing_values=-1)\n",
    "nfeatures=all_data.shape[1]\n",
    "\n",
    "imputer.fit(X_train)\n",
    "X_train_imputed = imputer.transform(X_train)\n",
    "X_test_imputed = imputer.transform(X_test)\n",
    "\n",
    "scaler=RobustScaler()\n",
    "X_train_transformed = X_train_imputed\n",
    "X_train_transformed[:,numerical] = scaler.fit_transform(X_train_imputed[:,numerical])\n",
    "X_test_transformed = X_test\n",
    "X_test_transformed[:,numerical] = scaler.transform(X_test_imputed[:,numerical])\n",
    "\n",
    "classifier = KerasClassifier(build_fn=create_network, nfeatures=nfeatures, nhiddenUnits=295)\n",
    "classifier.fit(X_train_transformed, y_train, sample_weight=w, epochs=38, batch_size=10, verbose=0)\n",
    "y_test_predicted = classifier.predict(X_test_transformed)\n",
    "y_test_predicted_label = target_vectoriser(y_test_predicted)\n",
    "y_test_label = target_vectoriser(y_test)\n",
    "y_test_binary = lb.fit_transform(y_test)\n",
    "print('f1_score:      ',metrics.f1_score(y_test, y_test_predicted, average='weighted'), '\\nroc_auc_score: ', metrics.roc_auc_score(lb.fit_transform(y_test), lb.fit_transform(y_test_predicted), average='weighted'), '\\n')\n",
    "print(classification_report(y_test_label, y_test_predicted_label))"
   ]
  },
  {
   "cell_type": "code",
   "execution_count": 17,
   "metadata": {},
   "outputs": [
    {
     "data": {
      "text/html": [
       "<div>\n",
       "<style scoped>\n",
       "    .dataframe tbody tr th:only-of-type {\n",
       "        vertical-align: middle;\n",
       "    }\n",
       "\n",
       "    .dataframe tbody tr th {\n",
       "        vertical-align: top;\n",
       "    }\n",
       "\n",
       "    .dataframe thead th {\n",
       "        text-align: right;\n",
       "    }\n",
       "</style>\n",
       "<table border=\"1\" class=\"dataframe\">\n",
       "  <thead>\n",
       "    <tr style=\"text-align: right;\">\n",
       "      <th>Predicted</th>\n",
       "      <th>-</th>\n",
       "      <th>DAMAGED</th>\n",
       "      <th>DIFFERENT</th>\n",
       "      <th>FAKE</th>\n",
       "      <th>NOT_RECEIVED</th>\n",
       "      <th>SELLER_CANCEL_POSTERIORI</th>\n",
       "      <th>UNDEFINED</th>\n",
       "      <th>WITHDRAWAL</th>\n",
       "      <th>Total</th>\n",
       "    </tr>\n",
       "    <tr>\n",
       "      <th>Current</th>\n",
       "      <th></th>\n",
       "      <th></th>\n",
       "      <th></th>\n",
       "      <th></th>\n",
       "      <th></th>\n",
       "      <th></th>\n",
       "      <th></th>\n",
       "      <th></th>\n",
       "      <th></th>\n",
       "    </tr>\n",
       "  </thead>\n",
       "  <tbody>\n",
       "    <tr>\n",
       "      <th>-</th>\n",
       "      <td>2386</td>\n",
       "      <td>64</td>\n",
       "      <td>122</td>\n",
       "      <td>4</td>\n",
       "      <td>69</td>\n",
       "      <td>209</td>\n",
       "      <td>115</td>\n",
       "      <td>90</td>\n",
       "      <td>3059</td>\n",
       "    </tr>\n",
       "    <tr>\n",
       "      <th>DAMAGED</th>\n",
       "      <td>123</td>\n",
       "      <td>359</td>\n",
       "      <td>195</td>\n",
       "      <td>13</td>\n",
       "      <td>87</td>\n",
       "      <td>95</td>\n",
       "      <td>198</td>\n",
       "      <td>89</td>\n",
       "      <td>1159</td>\n",
       "    </tr>\n",
       "    <tr>\n",
       "      <th>DIFFERENT</th>\n",
       "      <td>143</td>\n",
       "      <td>170</td>\n",
       "      <td>213</td>\n",
       "      <td>8</td>\n",
       "      <td>70</td>\n",
       "      <td>98</td>\n",
       "      <td>69</td>\n",
       "      <td>65</td>\n",
       "      <td>836</td>\n",
       "    </tr>\n",
       "    <tr>\n",
       "      <th>FAKE</th>\n",
       "      <td>2</td>\n",
       "      <td>7</td>\n",
       "      <td>4</td>\n",
       "      <td>6</td>\n",
       "      <td>2</td>\n",
       "      <td>1</td>\n",
       "      <td>1</td>\n",
       "      <td>1</td>\n",
       "      <td>24</td>\n",
       "    </tr>\n",
       "    <tr>\n",
       "      <th>NOT_RECEIVED</th>\n",
       "      <td>457</td>\n",
       "      <td>467</td>\n",
       "      <td>341</td>\n",
       "      <td>26</td>\n",
       "      <td>769</td>\n",
       "      <td>274</td>\n",
       "      <td>328</td>\n",
       "      <td>169</td>\n",
       "      <td>2831</td>\n",
       "    </tr>\n",
       "    <tr>\n",
       "      <th>SELLER_CANCEL_POSTERIORI</th>\n",
       "      <td>520</td>\n",
       "      <td>266</td>\n",
       "      <td>338</td>\n",
       "      <td>16</td>\n",
       "      <td>135</td>\n",
       "      <td>955</td>\n",
       "      <td>217</td>\n",
       "      <td>251</td>\n",
       "      <td>2698</td>\n",
       "    </tr>\n",
       "    <tr>\n",
       "      <th>UNDEFINED</th>\n",
       "      <td>90</td>\n",
       "      <td>129</td>\n",
       "      <td>86</td>\n",
       "      <td>5</td>\n",
       "      <td>68</td>\n",
       "      <td>69</td>\n",
       "      <td>259</td>\n",
       "      <td>84</td>\n",
       "      <td>790</td>\n",
       "    </tr>\n",
       "    <tr>\n",
       "      <th>WITHDRAWAL</th>\n",
       "      <td>209</td>\n",
       "      <td>196</td>\n",
       "      <td>158</td>\n",
       "      <td>18</td>\n",
       "      <td>92</td>\n",
       "      <td>192</td>\n",
       "      <td>210</td>\n",
       "      <td>290</td>\n",
       "      <td>1365</td>\n",
       "    </tr>\n",
       "    <tr>\n",
       "      <th>Total</th>\n",
       "      <td>3930</td>\n",
       "      <td>1658</td>\n",
       "      <td>1457</td>\n",
       "      <td>96</td>\n",
       "      <td>1292</td>\n",
       "      <td>1893</td>\n",
       "      <td>1397</td>\n",
       "      <td>1039</td>\n",
       "      <td>12762</td>\n",
       "    </tr>\n",
       "  </tbody>\n",
       "</table>\n",
       "</div>"
      ],
      "text/plain": [
       "Predicted                    -  DAMAGED  DIFFERENT  FAKE  NOT_RECEIVED  \\\n",
       "Current                                                                  \n",
       "-                         2386       64        122     4            69   \n",
       "DAMAGED                    123      359        195    13            87   \n",
       "DIFFERENT                  143      170        213     8            70   \n",
       "FAKE                         2        7          4     6             2   \n",
       "NOT_RECEIVED               457      467        341    26           769   \n",
       "SELLER_CANCEL_POSTERIORI   520      266        338    16           135   \n",
       "UNDEFINED                   90      129         86     5            68   \n",
       "WITHDRAWAL                 209      196        158    18            92   \n",
       "Total                     3930     1658       1457    96          1292   \n",
       "\n",
       "Predicted                 SELLER_CANCEL_POSTERIORI  UNDEFINED  WITHDRAWAL  \\\n",
       "Current                                                                     \n",
       "-                                              209        115          90   \n",
       "DAMAGED                                         95        198          89   \n",
       "DIFFERENT                                       98         69          65   \n",
       "FAKE                                             1          1           1   \n",
       "NOT_RECEIVED                                   274        328         169   \n",
       "SELLER_CANCEL_POSTERIORI                       955        217         251   \n",
       "UNDEFINED                                       69        259          84   \n",
       "WITHDRAWAL                                     192        210         290   \n",
       "Total                                         1893       1397        1039   \n",
       "\n",
       "Predicted                 Total  \n",
       "Current                          \n",
       "-                          3059  \n",
       "DAMAGED                    1159  \n",
       "DIFFERENT                   836  \n",
       "FAKE                         24  \n",
       "NOT_RECEIVED               2831  \n",
       "SELLER_CANCEL_POSTERIORI   2698  \n",
       "UNDEFINED                   790  \n",
       "WITHDRAWAL                 1365  \n",
       "Total                     12762  "
      ]
     },
     "execution_count": 17,
     "metadata": {},
     "output_type": "execute_result"
    }
   ],
   "source": [
    "matrix=pd.crosstab(y_test_label, y_test_predicted_label, rownames=['Current'], colnames=['Predicted'])\n",
    "matrix['Total']= matrix.sum(axis=1)\n",
    "matrix.loc[\"Total\"]=matrix.sum()\n",
    "matrix"
   ]
  }
 ],
 "metadata": {
  "kernelspec": {
   "display_name": "Python 3",
   "language": "python",
   "name": "python3"
  },
  "language_info": {
   "codemirror_mode": {
    "name": "ipython",
    "version": 3
   },
   "file_extension": ".py",
   "mimetype": "text/x-python",
   "name": "python",
   "nbconvert_exporter": "python",
   "pygments_lexer": "ipython3",
   "version": "3.7.0"
  }
 },
 "nbformat": 4,
 "nbformat_minor": 2
}
