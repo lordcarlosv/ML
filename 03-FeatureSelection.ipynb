{
 "cells": [
  {
   "cell_type": "code",
   "execution_count": 1,
   "metadata": {},
   "outputs": [
    {
     "name": "stderr",
     "output_type": "stream",
     "text": [
      "C:\\ProgramData\\Anaconda3\\lib\\site-packages\\sklearn\\ensemble\\weight_boosting.py:29: DeprecationWarning: numpy.core.umath_tests is an internal NumPy module and should not be imported. It will be removed in a future NumPy release.\n",
      "  from numpy.core.umath_tests import inner1d\n"
     ]
    }
   ],
   "source": [
    "%matplotlib inline\n",
    "import pandas as pd\n",
    "import numpy as np\n",
    "import matplotlib.pyplot as plt\n",
    "import seaborn as sns\n",
    "import warnings\n",
    "\n",
    "from sklearn.model_selection import cross_val_score, train_test_split, GridSearchCV, StratifiedShuffleSplit\n",
    "from sklearn.preprocessing import Imputer, StandardScaler, MinMaxScaler, RobustScaler, Normalizer, LabelEncoder, LabelBinarizer\n",
    "from sklearn.utils.class_weight import compute_sample_weight\n",
    "from sklearn.decomposition import PCA\n",
    "from sklearn.feature_selection import SelectKBest\n",
    "from sklearn.feature_selection import chi2\n",
    "from sklearn.ensemble  import RandomForestClassifier\n",
    "from sklearn.naive_bayes import GaussianNB\n",
    "from sklearn import metrics\n",
    "from sklearn.metrics import classification_report\n",
    "from sklearn.pipeline import Pipeline, make_pipeline, FeatureUnion\n",
    "from sklearn.base import BaseEstimator, TransformerMixin\n",
    "from sklearn.exceptions import UndefinedMetricWarning\n",
    "\n",
    "warnings.filterwarnings(action='ignore', category=FutureWarning)\n",
    "warnings.filterwarnings(action='ignore', category=DeprecationWarning)\n",
    "warnings.filterwarnings(action='ignore', category=UndefinedMetricWarning)\n",
    "\n",
    "\n",
    "data = pd.read_csv('input_train.csv')\n",
    "label = pd.read_csv('challenge_output_data_training_file_prediction_of_transaction_claims_status.csv', ';')\n",
    "all_data = data.merge(label, left_on='ID', right_on='ID', how='inner').copy()\n",
    "claim_order = sorted(all_data['CLAIM_TYPE'].unique())"
   ]
  },
  {
   "cell_type": "markdown",
   "metadata": {},
   "source": [
    "# Fixing Structural Errors"
   ]
  },
  {
   "cell_type": "code",
   "execution_count": 2,
   "metadata": {},
   "outputs": [],
   "source": [
    "# '3/2017' => 201703\n",
    "temp = all_data['BUYING_DATE'].str.split('/')\n",
    "all_data['BUYING_DATE'] = temp.str[1] + temp.str[0].str.zfill(2)\n",
    "all_data['BUYING_DATE'] = all_data['BUYING_DATE'].astype('int32')"
   ]
  },
  {
   "cell_type": "markdown",
   "metadata": {},
   "source": [
    "# Handle Missing Data"
   ]
  },
  {
   "cell_type": "code",
   "execution_count": 3,
   "metadata": {},
   "outputs": [],
   "source": [
    "# To improve the Unbalanced Dataset we can delete the missing values for CLAIM_TYPE= '-'\n",
    "all_data = all_data.drop(all_data[(all_data['CLAIM_TYPE']=='-') & (all_data['BUYER_BIRTHDAY_DATE'].isna()) ].index)\n",
    "all_data = all_data.drop(all_data[(all_data['CLAIM_TYPE']=='-') & (all_data['SELLER_SCORE_AVERAGE'].isna()) ].index)\n",
    "all_data = all_data.drop(all_data[(all_data['CLAIM_TYPE']=='-') & (all_data['SHIPPING_MODE'].isna()) ].index)\n",
    "all_data = all_data.drop(all_data[(all_data['CLAIM_TYPE']=='-') & (all_data['SHIPPING_PRICE'].isna()) ].index)\n",
    "all_data = all_data.drop(all_data[(all_data['CLAIM_TYPE']=='-') & (all_data['PRICECLUB_STATUS'].isna()) ].index)\n",
    "all_data = all_data.drop(all_data[(all_data['CLAIM_TYPE']=='-') & (all_data['SELLER_SCORE_COUNT'].isna()) ].index)\n",
    "\n",
    "# Numerical feature \n",
    "all_data['REGISTRATION_DATE']=all_data['REGISTRATION_DATE'].fillna(-1).values\n",
    "all_data['BUYER_BIRTHDAY_DATE']=all_data['BUYER_BIRTHDAY_DATE'].fillna(-1).values\n",
    "all_data['BUYING_DATE']=all_data['BUYING_DATE'].fillna(-1).values\n",
    "all_data['SELLER_SCORE_AVERAGE']=all_data['SELLER_SCORE_AVERAGE'].fillna(-1).values \n",
    "\n",
    "# WARRANTIES_PRICE: There is not missing value but NON_WARRANTIES\n",
    "all_data['WARRANTIES_PRICE']=all_data['WARRANTIES_PRICE'].fillna('NON_WARRANTIES').values \n",
    "\n",
    "# Categorical Features\n",
    "all_data = all_data.fillna('MISSING')"
   ]
  },
  {
   "cell_type": "markdown",
   "metadata": {},
   "source": [
    "# Filter Unwanted Outliers"
   ]
  },
  {
   "cell_type": "code",
   "execution_count": 4,
   "metadata": {},
   "outputs": [],
   "source": [
    "# Attention that missings values = -1\n",
    "all_data = all_data.drop(all_data[(all_data['BUYER_BIRTHDAY_DATE']<1940) & (all_data['BUYER_BIRTHDAY_DATE']>=0)].index)\n",
    "all_data = all_data.drop(all_data[(all_data['BUYER_BIRTHDAY_DATE']>=2000) ].index)\n",
    "all_data = all_data.drop(all_data[(all_data['SELLER_SCORE_AVERAGE']<40) & (all_data['SELLER_SCORE_AVERAGE']>=0)].index)"
   ]
  },
  {
   "cell_type": "markdown",
   "metadata": {},
   "source": [
    "# Data Type Conversion"
   ]
  },
  {
   "cell_type": "code",
   "execution_count": 5,
   "metadata": {},
   "outputs": [],
   "source": [
    "all_data['BUYER_BIRTHDAY_DATE']=all_data['BUYER_BIRTHDAY_DATE'].astype(np.int16)\n",
    "all_data['SELLER_SCORE_AVERAGE']=all_data['SELLER_SCORE_AVERAGE'].astype(np.int16)\n",
    "all_data['REGISTRATION_DATE']=all_data['REGISTRATION_DATE'].astype(np.int16)\n",
    "all_data['BUYER_DEPARTMENT']=all_data['BUYER_DEPARTMENT'].astype(np.int16)\n",
    "all_data['SELLER_DEPARTMENT']=all_data['SELLER_DEPARTMENT'].astype(np.int16)\n",
    "all_data['CARD_PAYMENT']=all_data['CARD_PAYMENT'].astype(np.bool)\n",
    "all_data['COUPON_PAYMENT']=all_data['COUPON_PAYMENT'].astype(np.bool)\n",
    "all_data['RSP_PAYMENT']=all_data['RSP_PAYMENT'].astype(np.bool)\n",
    "all_data['WALLET_PAYMENT']=all_data['WALLET_PAYMENT'].astype(np.bool)"
   ]
  },
  {
   "cell_type": "markdown",
   "metadata": {},
   "source": [
    "# Sparse Classes"
   ]
  },
  {
   "cell_type": "code",
   "execution_count": 6,
   "metadata": {},
   "outputs": [],
   "source": [
    "top10=all_data['SELLER_COUNTRY'].value_counts().head(10).index\n",
    "all_data.loc[all_data['SELLER_COUNTRY'].isin(top10)==False,'SELLER_COUNTRY'] = 'OTHERS'\n",
    "\n",
    "top10=all_data['SELLER_DEPARTMENT'].value_counts().head(10).index\n",
    "all_data.loc[all_data['SELLER_DEPARTMENT'].isin(top10)==False,'SELLER_DEPARTMENT'] = 'OTHERS'"
   ]
  },
  {
   "cell_type": "markdown",
   "metadata": {},
   "source": [
    "# Encoding"
   ]
  },
  {
   "cell_type": "code",
   "execution_count": 7,
   "metadata": {},
   "outputs": [],
   "source": [
    "factor = pd.factorize(all_data['CLAIM_TYPE'])\n",
    "target_number=factor[0]\n",
    "target_label = factor[1]\n",
    "target_vectoriser=np.vectorize(dict(zip(range(8),target_label)).get)\n",
    "lb=LabelBinarizer()\n",
    "\n",
    "####### Nominal #######\n",
    "all_data = pd.concat([all_data,\n",
    "                                pd.get_dummies(all_data['SHIPPING_MODE'], prefix='SHIPPING_MODE'),\n",
    "                                pd.get_dummies(all_data['SELLER_COUNTRY'], prefix='SELLER_COUNTRY'),\n",
    "                                pd.get_dummies(all_data['PRODUCT_TYPE'], prefix='PRODUCT_TYPE'),\n",
    "                                pd.get_dummies(all_data['PRODUCT_FAMILY'], prefix='PRODUCT_FAMILY'),\n",
    "                                pd.get_dummies(all_data['BUYER_DEPARTMENT'], prefix='BUYER_DEPARTMENT'),\n",
    "                                pd.get_dummies(all_data['SELLER_DEPARTMENT'], prefix='SELLER_DEPARTMENT')\n",
    "                           ],\n",
    "                          axis=1)\n",
    "\n",
    "#######Ordinal #######\n",
    "all_data['PRICECLUB_STATUS'] = all_data['PRICECLUB_STATUS'].map( {'MISSING':0,'UNSUBSCRIBED':1, 'REGULAR': 2, 'SILVER':3, 'GOLD':4, 'PLATINUM':5}).astype(np.int16)\n",
    "all_data['SHIPPING_PRICE'] = all_data['SHIPPING_PRICE'].map( {'MISSING':0,'<1':1, '1<5': 2, '5<10':3, '10<20':4, '>20':5}).astype(np.int16)\n",
    "all_data['WARRANTIES_PRICE'] = all_data['WARRANTIES_PRICE'].map( {'NON_WARRANTIES':0, '<5':1, '5<20': 2, '20<50':3, '50<100':4, '100<500':5}).astype(np.int16)\n",
    "all_data['PURCHASE_COUNT'] = all_data['PURCHASE_COUNT'].map( {'<5':1, '5<20': 2, '20<50':3, '50<100':4, '100<500':5, '>500':6}).astype(np.int16)\n",
    "all_data['SELLER_SCORE_COUNT'] = all_data['SELLER_SCORE_COUNT'].map( {'MISSING':0,'<100':1, '100<1000': 2, '1000<10000':3, '10000<100000':4, '100000<1000000':5}).astype(np.int16)\n",
    "all_data['ITEM_PRICE'] = all_data['ITEM_PRICE'].map( {'<10':0, '10<20': 1, '20<50':2, '50<100':3, '100<500':4, '500<1000':5, '1000<5000':6, '>5000':7}).astype(np.int16)\n"
   ]
  },
  {
   "cell_type": "markdown",
   "metadata": {},
   "source": [
    "# Remove Unused Features"
   ]
  },
  {
   "cell_type": "code",
   "execution_count": 8,
   "metadata": {},
   "outputs": [],
   "source": [
    "# REMOVAL OF UNUSEFUL FEATURES\n",
    "all_data = all_data.drop([\"ID\"], axis=1)\n",
    "all_data = all_data.drop([\"CLAIM_TYPE\"], axis=1)\n",
    "all_data = all_data.drop(['WARRANTIES_FLG'],  axis=1)\n",
    "\n",
    "# REMOVAL OF FEATURES THAT WERE ENCODED\n",
    "all_data = all_data.drop(['SHIPPING_MODE'],  axis=1)\n",
    "all_data = all_data.drop(['SELLER_COUNTRY'],  axis=1)\n",
    "all_data = all_data.drop(['PRODUCT_FAMILY'],  axis=1)\n",
    "all_data = all_data.drop(['PRODUCT_TYPE'],  axis=1)\n",
    "all_data = all_data.drop(['BUYER_DEPARTMENT'],  axis=1)\n",
    "all_data = all_data.drop(['SELLER_DEPARTMENT'],  axis=1)"
   ]
  },
  {
   "cell_type": "markdown",
   "metadata": {},
   "source": [
    "# Feature Selection"
   ]
  },
  {
   "cell_type": "code",
   "execution_count": 40,
   "metadata": {
    "scrolled": true
   },
   "outputs": [],
   "source": [
    "numerical, categorical=list(), list()\n",
    "for x in all_data.columns : \n",
    "    if x  in ['REGISTRATION_DATE','BUYER_BIRTHDAY_DATE','BUYING_DATE','SELLER_SCORE_AVERAGE', 'PRICECLUB_STATUS', 'SHIPPING_PRICE', 'WARRANTIES_PRICE', 'PURCHASE_COUNT', 'SELLER_SCORE_COUNT', 'ITEM_PRICE'] :\n",
    "        numerical.append(all_data.columns.get_loc(x))\n",
    "    else :\n",
    "        categorical.append(all_data.columns.get_loc(x))\n",
    "\n",
    "def print_repport(y_train, y_test, y_train_predicted, y_test_predicted):\n",
    "    y_train_predicted_label = target_vectoriser(y_train_predicted)\n",
    "    y_test_predicted_label = target_vectoriser(y_test_predicted)\n",
    "    y_train_label = target_vectoriser(y_train)\n",
    "    y_test_label = target_vectoriser(y_test)\n",
    "    print('TRAIN')\n",
    "    print('f1_score:      ',metrics.f1_score(y_train, y_train_predicted, average='weighted'))\n",
    "    print(classification_report(y_train_label, y_train_predicted_label))\n",
    "    print('TEST')\n",
    "    print('f1_score:      ',metrics.f1_score(y_test, y_test_predicted, average='weighted'))\n",
    "    print(classification_report(y_test_label, y_test_predicted_label))\n",
    "    \n",
    "def f_selector(option, data, X_train, y_train, X_test, nbrfeatures):\n",
    "    if option=='CHI2':\n",
    "        bestfeatures = SelectKBest(score_func=chi2, k=nbrfeatures)\n",
    "        fit = bestfeatures.fit(X_train,y_train)\n",
    "        dfscores = pd.DataFrame(fit.scores_)\n",
    "        dfcolumns = pd.DataFrame(data.columns)\n",
    "        featureScores = pd.concat([dfcolumns,dfscores],axis=1)\n",
    "        featureScores.columns = ['Feature','Score']  \n",
    "     \n",
    "        topFeaturesIndex = featureScores.nlargest(nbrfeatures,'Score')['Feature'].index\n",
    "        X_train= X_train[:,topFeaturesIndex]\n",
    "        X_test = X_test[:,topFeaturesIndex]\n",
    "    else:\n",
    "        pca = PCA(n_components=nbrfeatures)\n",
    "        X_train = pca.fit_transform(X_train)\n",
    "        X_test = pca.transform(X_test)\n",
    "    return (X_train, X_test)\n",
    "\n",
    "def run_classifier(option, data, scaler, _ncomponents):\n",
    " \n",
    "    X_train, X_test, y_train, y_test = train_test_split(data, target_number, test_size=0.20, random_state=0, stratify=target_number)\n",
    "    w=compute_sample_weight(class_weight='balanced', y=y_train) \n",
    "    \n",
    "    #IMPUTER & SCALER \n",
    "    imputer = Imputer(strategy='mean', missing_values=-1) \n",
    "    X_train_imputed = imputer.fit_transform(X_train)\n",
    "    X_test_imputed = imputer.transform(X_test)\n",
    "    X_train_transformed = X_train_imputed\n",
    "    X_train_transformed[:,numerical] = scaler.fit_transform(X_train_imputed[:,numerical])\n",
    "    X_test_transformed = X_test_imputed\n",
    "    X_test_transformed[:,numerical] = scaler.transform(X_test_imputed[:,numerical])\n",
    "   \n",
    "    #FEATURE SELECTION\n",
    "    X = f_selector(option, data, X_train_transformed, y_train, X_test_transformed, _ncomponents)\n",
    "    X_train = X[0]\n",
    "    X_test = X[1]\n",
    "\n",
    "    #CLASSIFIER\n",
    "    classifier = GaussianNB()\n",
    "    classifier.fit(X_train, y_train, sample_weight=w)\n",
    "    y_train_predicted = classifier.predict(X_train)\n",
    "    y_test_predicted = classifier.predict(X_test)\n",
    "    \n",
    "    #print(topFeatures['Feature'].values, '\\n')\n",
    "    print_repport(y_train, y_test, y_train_predicted, y_test_predicted)\n",
    "\n",
    "\n",
    "def run_tunning(option, data, scaler, _ncomponents):\n",
    "    \n",
    "    X_train, X_test, y_train, y_test = train_test_split(data, target_number, test_size=0.20, random_state=0, stratify=target_number)\n",
    "    w=compute_sample_weight(class_weight='balanced', y=y_train) \n",
    "    \n",
    "    #IMPUTER & SCALER \n",
    "    imputer = Imputer(strategy='mean', missing_values=-1) \n",
    "    X_train_imputed = imputer.fit_transform(X_train)\n",
    "    X_test_imputed = imputer.transform(X_test)\n",
    "    X_train_transformed = X_train_imputed\n",
    "    X_train_transformed[:,numerical] = scaler.fit_transform(X_train_imputed[:,numerical])\n",
    "    X_test_transformed = X_test_imputed\n",
    "    X_test_transformed[:,numerical] = scaler.transform(X_test_imputed[:,numerical])\n",
    "\n",
    "    #FEATURE SELECTION\n",
    "    testScore = list()\n",
    "    for i in _ncomponents:\n",
    "        X = f_selector(option, data, X_train_transformed, y_train, X_test_transformed, i)\n",
    "        X_train = X[0]\n",
    "        X_test = X[1]\n",
    "\n",
    "        classifier = GaussianNB()\n",
    "        classifier.fit(X_train, y_train, sample_weight=w)\n",
    "        y_test_predicted = classifier.predict(X_test)\n",
    "        testScore.append(metrics.f1_score(y_test, y_test_predicted, average='weighted'))\n",
    "\n",
    "    return testScore"
   ]
  },
  {
   "cell_type": "markdown",
   "metadata": {},
   "source": [
    "# CHI2"
   ]
  },
  {
   "cell_type": "code",
   "execution_count": 56,
   "metadata": {},
   "outputs": [
    {
     "name": "stdout",
     "output_type": "stream",
     "text": [
      "Wall time: 32.2 s\n"
     ]
    },
    {
     "data": {
      "image/png": "[encoded data removed]",
      "text/plain": [
       "<Figure size 1080x360 with 1 Axes>"
      ]
     },
     "metadata": {
      "needs_background": "light"
     },
     "output_type": "display_data"
    }
   ],
   "source": [
    "%%time\n",
    "nbrFeatures = list(range(1,100))\n",
    "testScoreChi2 = run_tunning('CHI2', all_data, Normalizer(), nbrFeatures)\n",
    "plt.figure(figsize=(15,5));\n",
    "plt.plot(nbrFeatures, testScoreChi2,'-o');"
   ]
  },
  {
   "cell_type": "code",
   "execution_count": 63,
   "metadata": {},
   "outputs": [
    {
     "name": "stdout",
     "output_type": "stream",
     "text": [
      "28 0.20433016616829983\n",
      "29 0.20810132272228418\n",
      "30 0.22048453920219319\n",
      "31 0.20294245361989338\n",
      "32 0.20476836517064467\n",
      "33 0.20190443034181252\n",
      "34 0.20020903650380803\n"
     ]
    }
   ],
   "source": [
    "for i in range(28,35): print( i, testScoreChi2[i-1])"
   ]
  },
  {
   "cell_type": "code",
   "execution_count": 65,
   "metadata": {},
   "outputs": [
    {
     "name": "stdout",
     "output_type": "stream",
     "text": [
      "TRAIN\n",
      "f1_score:       0.21425575828147997\n",
      "                          precision    recall  f1-score   support\n",
      "\n",
      "                       -       0.49      0.49      0.49     12233\n",
      "                 DAMAGED       0.14      0.05      0.08      4638\n",
      "               DIFFERENT       0.15      0.08      0.11      3342\n",
      "                    FAKE       0.00      0.94      0.01        98\n",
      "            NOT_RECEIVED       0.50      0.10      0.16     11321\n",
      "SELLER_CANCEL_POSTERIORI       0.62      0.12      0.20     10791\n",
      "               UNDEFINED       0.19      0.04      0.07      3159\n",
      "              WITHDRAWAL       0.14      0.00      0.00      5462\n",
      "\n",
      "             avg / total       0.41      0.18      0.21     51044\n",
      "\n",
      "TEST\n",
      "f1_score:       0.22048453920219319\n",
      "                          precision    recall  f1-score   support\n",
      "\n",
      "                       -       0.49      0.49      0.49      3059\n",
      "                 DAMAGED       0.14      0.05      0.07      1159\n",
      "               DIFFERENT       0.17      0.10      0.12       836\n",
      "                    FAKE       0.00      0.88      0.01        24\n",
      "            NOT_RECEIVED       0.52      0.10      0.17      2831\n",
      "SELLER_CANCEL_POSTERIORI       0.67      0.13      0.22      2698\n",
      "               UNDEFINED       0.20      0.05      0.07       790\n",
      "              WITHDRAWAL       0.10      0.00      0.00      1365\n",
      "\n",
      "             avg / total       0.42      0.18      0.22     12762\n",
      "\n"
     ]
    }
   ],
   "source": [
    "run_classifier('CHI2', all_data, Normalizer(), 30)"
   ]
  },
  {
   "cell_type": "code",
   "execution_count": 62,
   "metadata": {},
   "outputs": [
    {
     "name": "stdout",
     "output_type": "stream",
     "text": [
      "Wall time: 30.9 s\n"
     ]
    },
    {
     "data": {
      "image/png": "[encoded data removed]",
      "text/plain": [
       "<Figure size 1080x360 with 1 Axes>"
      ]
     },
     "metadata": {
      "needs_background": "light"
     },
     "output_type": "display_data"
    }
   ],
   "source": [
    "%%time\n",
    "nbrFeatures = list(range(1,100))\n",
    "testScoreMinMax = run_tunning('CHI2', all_data, MinMaxScaler(), nbrFeatures)\n",
    "plt.figure(figsize=(15,5));\n",
    "plt.plot(nbrFeatures, testScoreMinMax,'-o');"
   ]
  },
  {
   "cell_type": "code",
   "execution_count": 64,
   "metadata": {},
   "outputs": [
    {
     "name": "stdout",
     "output_type": "stream",
     "text": [
      "3 0.23881470505126814\n",
      "4 0.25660400575303954\n",
      "5 0.22342345913725384\n",
      "6 0.18467809535072463\n",
      "7 0.16684865438206392\n"
     ]
    }
   ],
   "source": [
    "for i in range(3,8): print( i, testScoreMinMax[i-1])"
   ]
  },
  {
   "cell_type": "code",
   "execution_count": 66,
   "metadata": {},
   "outputs": [
    {
     "name": "stdout",
     "output_type": "stream",
     "text": [
      "TRAIN\n",
      "f1_score:       0.2590195524141719\n",
      "                          precision    recall  f1-score   support\n",
      "\n",
      "                       -       0.52      0.89      0.65     12233\n",
      "                 DAMAGED       0.19      0.32      0.24      4638\n",
      "               DIFFERENT       0.05      0.00      0.01      3342\n",
      "                    FAKE       0.01      0.41      0.02        98\n",
      "            NOT_RECEIVED       0.00      0.00      0.00     11321\n",
      "SELLER_CANCEL_POSTERIORI       0.30      0.42      0.35     10791\n",
      "               UNDEFINED       0.08      0.00      0.01      3159\n",
      "              WITHDRAWAL       0.11      0.04      0.05      5462\n",
      "\n",
      "             avg / total       0.23      0.34      0.26     51044\n",
      "\n",
      "TEST\n",
      "f1_score:       0.25660400575303954\n",
      "                          precision    recall  f1-score   support\n",
      "\n",
      "                       -       0.52      0.89      0.65      3059\n",
      "                 DAMAGED       0.18      0.29      0.22      1159\n",
      "               DIFFERENT       0.02      0.00      0.00       836\n",
      "                    FAKE       0.01      0.33      0.01        24\n",
      "            NOT_RECEIVED       0.00      0.00      0.00      2831\n",
      "SELLER_CANCEL_POSTERIORI       0.30      0.41      0.34      2698\n",
      "               UNDEFINED       0.11      0.01      0.01       790\n",
      "              WITHDRAWAL       0.11      0.04      0.05      1365\n",
      "\n",
      "             avg / total       0.22      0.33      0.26     12762\n",
      "\n"
     ]
    }
   ],
   "source": [
    "run_classifier('CHI2', all_data, MinMaxScaler(), 4)"
   ]
  },
  {
   "cell_type": "markdown",
   "metadata": {},
   "source": [
    "# PCA"
   ]
  },
  {
   "cell_type": "code",
   "execution_count": 59,
   "metadata": {},
   "outputs": [
    {
     "name": "stdout",
     "output_type": "stream",
     "text": [
      "Wall time: 3min 25s\n"
     ]
    },
    {
     "data": {
      "image/png": "[encoded data removed]",
      "text/plain": [
       "<Figure size 1080x360 with 1 Axes>"
      ]
     },
     "metadata": {
      "needs_background": "light"
     },
     "output_type": "display_data"
    }
   ],
   "source": [
    "%%time\n",
    "nbrFeatures = list(range(1,100))\n",
    "testScorePCA = run_tunning('PCA', all_data, StandardScaler(), nbrFeatures)\n",
    "plt.figure(figsize=(15,5));\n",
    "plt.plot(nbrFeatures, testScorePCA,'-o');"
   ]
  },
  {
   "cell_type": "code",
   "execution_count": 60,
   "metadata": {},
   "outputs": [
    {
     "name": "stdout",
     "output_type": "stream",
     "text": [
      "12 0.3499098827040774\n",
      "13 0.3529700999452347\n",
      "14 0.360223709814304\n",
      "15 0.3599022670813107\n",
      "16 0.3514830695752999\n",
      "17 0.34335951729269887\n"
     ]
    }
   ],
   "source": [
    "for i in range(12,18): print( i, testScorePCA[i-1])"
   ]
  },
  {
   "cell_type": "code",
   "execution_count": 61,
   "metadata": {},
   "outputs": [
    {
     "name": "stdout",
     "output_type": "stream",
     "text": [
      "TRAIN\n",
      "f1_score:       0.3574577722356202\n",
      "                          precision    recall  f1-score   support\n",
      "\n",
      "                       -       0.58      0.72      0.64     12233\n",
      "                 DAMAGED       0.20      0.27      0.23      4638\n",
      "               DIFFERENT       0.13      0.19      0.15      3342\n",
      "                    FAKE       0.01      0.50      0.02        98\n",
      "            NOT_RECEIVED       0.46      0.26      0.33     11321\n",
      "SELLER_CANCEL_POSTERIORI       0.41      0.28      0.33     10791\n",
      "               UNDEFINED       0.15      0.12      0.13      3159\n",
      "              WITHDRAWAL       0.22      0.16      0.19      5462\n",
      "\n",
      "             avg / total       0.39      0.35      0.36     51044\n",
      "\n",
      "TEST\n",
      "f1_score:       0.36031311277043204\n",
      "                          precision    recall  f1-score   support\n",
      "\n",
      "                       -       0.58      0.73      0.65      3059\n",
      "                 DAMAGED       0.19      0.26      0.22      1159\n",
      "               DIFFERENT       0.12      0.17      0.14       836\n",
      "                    FAKE       0.01      0.42      0.02        24\n",
      "            NOT_RECEIVED       0.45      0.26      0.33      2831\n",
      "SELLER_CANCEL_POSTERIORI       0.43      0.29      0.35      2698\n",
      "               UNDEFINED       0.18      0.14      0.16       790\n",
      "              WITHDRAWAL       0.23      0.17      0.19      1365\n",
      "\n",
      "             avg / total       0.39      0.36      0.36     12762\n",
      "\n"
     ]
    }
   ],
   "source": [
    "run_classifier('PCA', all_data, StandardScaler(), 14)"
   ]
  }
 ],
 "metadata": {
  "kernelspec": {
   "display_name": "Python 3",
   "language": "python",
   "name": "python3"
  },
  "language_info": {
   "codemirror_mode": {
    "name": "ipython",
    "version": 3
   },
   "file_extension": ".py",
   "mimetype": "text/x-python",
   "name": "python",
   "nbconvert_exporter": "python",
   "pygments_lexer": "ipython3",
   "version": "3.7.0"
  }
 },
 "nbformat": 4,
 "nbformat_minor": 2
}
