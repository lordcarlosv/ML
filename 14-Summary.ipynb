{
 "cells": [
  {
   "cell_type": "code",
   "execution_count": 1,
   "metadata": {},
   "outputs": [
    {
     "name": "stderr",
     "output_type": "stream",
     "text": [
      "C:\\ProgramData\\Anaconda3\\lib\\site-packages\\sklearn\\ensemble\\weight_boosting.py:29: DeprecationWarning: numpy.core.umath_tests is an internal NumPy module and should not be imported. It will be removed in a future NumPy release.\n",
      "  from numpy.core.umath_tests import inner1d\n",
      "Using TensorFlow backend.\n"
     ]
    }
   ],
   "source": [
    "%matplotlib inline\n",
    "import pandas as pd\n",
    "import numpy as np\n",
    "import matplotlib.pyplot as plt\n",
    "import seaborn as sns\n",
    "import warnings\n",
    "\n",
    "from sklearn.model_selection import cross_val_score, train_test_split, GridSearchCV, StratifiedShuffleSplit\n",
    "from sklearn.preprocessing import Imputer, StandardScaler, MinMaxScaler, RobustScaler, Normalizer, LabelEncoder, LabelBinarizer\n",
    "from sklearn.utils.class_weight import compute_sample_weight\n",
    "from sklearn.decomposition import PCA\n",
    "from sklearn.feature_selection import SelectKBest\n",
    "from sklearn.feature_selection import chi2\n",
    "from sklearn.dummy import DummyClassifier\n",
    "from sklearn.linear_model import LogisticRegression\n",
    "from sklearn.naive_bayes import BernoulliNB, GaussianNB, MultinomialNB\n",
    "from sklearn.ensemble  import RandomForestClassifier\n",
    "from sklearn.neural_network import MLPClassifier\n",
    "import xgboost as xgb\n",
    "import catboost as cb\n",
    "from keras.wrappers.scikit_learn import KerasClassifier\n",
    "from keras.models import Sequential\n",
    "from keras.layers import Dense\n",
    "from keras.optimizers import SGD\n",
    "from keras.utils import to_categorical\n",
    "from sklearn import metrics\n",
    "from sklearn.metrics import classification_report\n",
    "from sklearn.pipeline import Pipeline, make_pipeline, FeatureUnion\n",
    "from sklearn.base import BaseEstimator, TransformerMixin\n",
    "from sklearn.exceptions import UndefinedMetricWarning, ConvergenceWarning\n",
    "\n",
    "warnings.filterwarnings(action='ignore', category=FutureWarning)\n",
    "warnings.filterwarnings(action='ignore', category=DeprecationWarning)\n",
    "warnings.filterwarnings(action='ignore', category=UndefinedMetricWarning)\n",
    "warnings.filterwarnings(action='ignore', category=ConvergenceWarning)\n",
    "\n",
    "data = pd.read_csv('input_train.csv')\n",
    "label = pd.read_csv('challenge_output_data_training_file_prediction_of_transaction_claims_status.csv', ';')\n",
    "all_data = data.merge(label, left_on='ID', right_on='ID', how='inner').copy()\n",
    "claim_order = sorted(all_data['CLAIM_TYPE'].unique())"
   ]
  },
  {
   "cell_type": "markdown",
   "metadata": {},
   "source": [
    "# Fixing Structural Errors"
   ]
  },
  {
   "cell_type": "code",
   "execution_count": 2,
   "metadata": {},
   "outputs": [],
   "source": [
    "# '3/2017' => 201703\n",
    "temp = all_data['BUYING_DATE'].str.split('/')\n",
    "all_data['BUYING_DATE'] = temp.str[1] + temp.str[0].str.zfill(2)\n",
    "all_data['BUYING_DATE'] = all_data['BUYING_DATE'].astype('int32')"
   ]
  },
  {
   "cell_type": "markdown",
   "metadata": {},
   "source": [
    "# Handle Missing Data"
   ]
  },
  {
   "cell_type": "code",
   "execution_count": 3,
   "metadata": {},
   "outputs": [],
   "source": [
    "# To improve the Unbalanced Dataset we can delete the missing values for CLAIM_TYPE= '-'\n",
    "all_data = all_data.drop(all_data[(all_data['CLAIM_TYPE']=='-') & (all_data['BUYER_BIRTHDAY_DATE'].isna()) ].index)\n",
    "all_data = all_data.drop(all_data[(all_data['CLAIM_TYPE']=='-') & (all_data['SELLER_SCORE_AVERAGE'].isna()) ].index)\n",
    "all_data = all_data.drop(all_data[(all_data['CLAIM_TYPE']=='-') & (all_data['SHIPPING_MODE'].isna()) ].index)\n",
    "all_data = all_data.drop(all_data[(all_data['CLAIM_TYPE']=='-') & (all_data['SHIPPING_PRICE'].isna()) ].index)\n",
    "all_data = all_data.drop(all_data[(all_data['CLAIM_TYPE']=='-') & (all_data['PRICECLUB_STATUS'].isna()) ].index)\n",
    "all_data = all_data.drop(all_data[(all_data['CLAIM_TYPE']=='-') & (all_data['SELLER_SCORE_COUNT'].isna()) ].index)\n",
    "\n",
    "# Numerical feature \n",
    "all_data['REGISTRATION_DATE']=all_data['REGISTRATION_DATE'].fillna(-1).values\n",
    "all_data['BUYER_BIRTHDAY_DATE']=all_data['BUYER_BIRTHDAY_DATE'].fillna(-1).values\n",
    "all_data['BUYING_DATE']=all_data['BUYING_DATE'].fillna(-1).values\n",
    "all_data['SELLER_SCORE_AVERAGE']=all_data['SELLER_SCORE_AVERAGE'].fillna(-1).values \n",
    "\n",
    "# WARRANTIES_PRICE: There is not missing value but NON_WARRANTIES\n",
    "all_data['WARRANTIES_PRICE']=all_data['WARRANTIES_PRICE'].fillna('NON_WARRANTIES').values \n",
    "\n",
    "# Categorical Features\n",
    "all_data = all_data.fillna('MISSING')"
   ]
  },
  {
   "cell_type": "markdown",
   "metadata": {},
   "source": [
    "# Filter Unwanted Outliers"
   ]
  },
  {
   "cell_type": "code",
   "execution_count": 4,
   "metadata": {},
   "outputs": [],
   "source": [
    "# Attention with missings values > -1\n",
    "all_data = all_data.drop(all_data[(all_data['BUYER_BIRTHDAY_DATE']<1940) & (all_data['BUYER_BIRTHDAY_DATE']>=0)].index)\n",
    "all_data = all_data.drop(all_data[(all_data['BUYER_BIRTHDAY_DATE']>=2000) ].index)\n",
    "all_data = all_data.drop(all_data[(all_data['SELLER_SCORE_AVERAGE']<40) & (all_data['SELLER_SCORE_AVERAGE']>=0)].index)"
   ]
  },
  {
   "cell_type": "markdown",
   "metadata": {},
   "source": [
    "# Data Type Conversion"
   ]
  },
  {
   "cell_type": "code",
   "execution_count": 5,
   "metadata": {},
   "outputs": [],
   "source": [
    "all_data['BUYER_BIRTHDAY_DATE']=all_data['BUYER_BIRTHDAY_DATE'].astype(np.int16)\n",
    "all_data['SELLER_SCORE_AVERAGE']=all_data['SELLER_SCORE_AVERAGE'].astype(np.int16)\n",
    "all_data['REGISTRATION_DATE']=all_data['REGISTRATION_DATE'].astype(np.int16)\n",
    "all_data['BUYER_DEPARTMENT']=all_data['BUYER_DEPARTMENT'].astype(np.int16)\n",
    "all_data['SELLER_DEPARTMENT']=all_data['SELLER_DEPARTMENT'].astype(np.int16)\n",
    "all_data['CARD_PAYMENT']=all_data['CARD_PAYMENT'].astype(np.bool)\n",
    "all_data['COUPON_PAYMENT']=all_data['COUPON_PAYMENT'].astype(np.bool)\n",
    "all_data['RSP_PAYMENT']=all_data['RSP_PAYMENT'].astype(np.bool)\n",
    "all_data['WALLET_PAYMENT']=all_data['WALLET_PAYMENT'].astype(np.bool)"
   ]
  },
  {
   "cell_type": "markdown",
   "metadata": {},
   "source": [
    "# Sparse Classes"
   ]
  },
  {
   "cell_type": "code",
   "execution_count": 6,
   "metadata": {},
   "outputs": [],
   "source": [
    "top10=all_data['SELLER_COUNTRY'].value_counts().head(10).index\n",
    "all_data.loc[all_data['SELLER_COUNTRY'].isin(top10)==False,'SELLER_COUNTRY'] = 'OTHERS'\n",
    "\n",
    "top10=all_data['SELLER_DEPARTMENT'].value_counts().head(10).index\n",
    "all_data.loc[all_data['SELLER_DEPARTMENT'].isin(top10)==False,'SELLER_DEPARTMENT'] = 'OTHERS'"
   ]
  },
  {
   "cell_type": "markdown",
   "metadata": {},
   "source": [
    "# Encoding"
   ]
  },
  {
   "cell_type": "code",
   "execution_count": 7,
   "metadata": {},
   "outputs": [],
   "source": [
    "factor = pd.factorize(all_data['CLAIM_TYPE'])\n",
    "target_number=factor[0]\n",
    "target_label = factor[1]\n",
    "target_vectoriser=np.vectorize(dict(zip(range(8),target_label)).get)\n",
    "lb=LabelBinarizer()\n",
    "\n",
    "####### Nominal #######\n",
    "all_data = pd.concat([all_data,\n",
    "                                pd.get_dummies(all_data['SHIPPING_MODE'], prefix='SHIPPING_MODE'),\n",
    "                                pd.get_dummies(all_data['SELLER_COUNTRY'], prefix='SELLER_COUNTRY'),\n",
    "                                pd.get_dummies(all_data['PRODUCT_TYPE'], prefix='PRODUCT_TYPE'),\n",
    "                                pd.get_dummies(all_data['PRODUCT_FAMILY'], prefix='PRODUCT_FAMILY'),\n",
    "                                pd.get_dummies(all_data['BUYER_DEPARTMENT'], prefix='BUYER_DEPARTMENT'),\n",
    "                                pd.get_dummies(all_data['SELLER_DEPARTMENT'], prefix='SELLER_DEPARTMENT')\n",
    "                           ],\n",
    "                          axis=1)\n",
    "\n",
    "#######Ordinal #######\n",
    "all_data['PRICECLUB_STATUS'] = all_data['PRICECLUB_STATUS'].map( {'MISSING':0,'UNSUBSCRIBED':1, 'REGULAR': 2, 'SILVER':3, 'GOLD':4, 'PLATINUM':5}).astype(np.int16)\n",
    "all_data['SHIPPING_PRICE'] = all_data['SHIPPING_PRICE'].map( {'MISSING':0,'<1':1, '1<5': 2, '5<10':3, '10<20':4, '>20':5}).astype(np.int16)\n",
    "all_data['WARRANTIES_PRICE'] = all_data['WARRANTIES_PRICE'].map( {'NON_WARRANTIES':0, '<5':1, '5<20': 2, '20<50':3, '50<100':4, '100<500':5}).astype(np.int16)\n",
    "all_data['PURCHASE_COUNT'] = all_data['PURCHASE_COUNT'].map( {'<5':1, '5<20': 2, '20<50':3, '50<100':4, '100<500':5, '>500':6}).astype(np.int16)\n",
    "all_data['SELLER_SCORE_COUNT'] = all_data['SELLER_SCORE_COUNT'].map( {'MISSING':0,'<100':1, '100<1000': 2, '1000<10000':3, '10000<100000':4, '100000<1000000':5}).astype(np.int16)\n",
    "all_data['ITEM_PRICE'] = all_data['ITEM_PRICE'].map( {'<10':0, '10<20': 1, '20<50':2, '50<100':3, '100<500':4, '500<1000':5, '1000<5000':6, '>5000':7}).astype(np.int16)"
   ]
  },
  {
   "cell_type": "markdown",
   "metadata": {},
   "source": [
    "# Remove Unused Features"
   ]
  },
  {
   "cell_type": "code",
   "execution_count": 8,
   "metadata": {},
   "outputs": [],
   "source": [
    "# REMOVAL OF UNUSEFUL FEATURES\n",
    "all_data = all_data.drop([\"ID\"], axis=1)\n",
    "all_data = all_data.drop([\"CLAIM_TYPE\"], axis=1)\n",
    "all_data = all_data.drop(['WARRANTIES_FLG'],  axis=1)\n",
    "\n",
    "# REMOVAL OF FEATURES THAT WERE ENCODED\n",
    "all_data = all_data.drop(['SHIPPING_MODE'],  axis=1)\n",
    "all_data = all_data.drop(['SELLER_COUNTRY'],  axis=1)\n",
    "all_data = all_data.drop(['PRODUCT_FAMILY'],  axis=1)\n",
    "all_data = all_data.drop(['PRODUCT_TYPE'],  axis=1)\n",
    "all_data = all_data.drop(['BUYER_DEPARTMENT'],  axis=1)\n",
    "all_data = all_data.drop(['SELLER_DEPARTMENT'],  axis=1)"
   ]
  },
  {
   "cell_type": "markdown",
   "metadata": {},
   "source": [
    "# Machine Learning"
   ]
  },
  {
   "cell_type": "code",
   "execution_count": 9,
   "metadata": {},
   "outputs": [],
   "source": [
    "numerical, categorical=list(), list()\n",
    "for x in all_data.columns : \n",
    "    if x  in ['REGISTRATION_DATE','BUYER_BIRTHDAY_DATE','BUYING_DATE','SELLER_SCORE_AVERAGE', 'PRICECLUB_STATUS', 'SHIPPING_PRICE', 'WARRANTIES_PRICE', 'PURCHASE_COUNT', 'SELLER_SCORE_COUNT', 'ITEM_PRICE'] :\n",
    "        numerical.append(all_data.columns.get_loc(x))\n",
    "    else :\n",
    "        categorical.append(all_data.columns.get_loc(x))\n",
    "        \n",
    "class ColumnSelector(BaseEstimator, TransformerMixin):\n",
    "    def __init__(self, columns):\n",
    "        self.columns = columns\n",
    "\n",
    "    def fit(self, X, y=None):\n",
    "        return self\n",
    "\n",
    "    def transform(self, X):\n",
    "        return X[:,self.columns]\n",
    "\n",
    "def create_keras(nfeatures, nhiddenUnits):\n",
    "    model = Sequential()\n",
    "    model.add(Dense(nhiddenUnits, input_dim=nfeatures, activation='relu'))\n",
    "    model.add(Dense(8, activation='softmax'))\n",
    "        \n",
    "    sgd = SGD(lr=0.001, decay=1e-6, momentum=0.9, nesterov=True)\n",
    "    model.compile(loss='categorical_crossentropy', optimizer=sgd, metrics=['accuracy'])\n",
    "    return model\n",
    "\n",
    "\n",
    "def f_selector(option, data, X_train, y_train, X_test, nbrfeatures):\n",
    "    if option=='CHI2':\n",
    "        bestfeatures = SelectKBest(score_func=chi2, k=nbrfeatures)\n",
    "        fit = bestfeatures.fit(X_train,y_train)\n",
    "        dfscores = pd.DataFrame(fit.scores_)\n",
    "        dfcolumns = pd.DataFrame(data.columns)\n",
    "        featureScores = pd.concat([dfcolumns,dfscores],axis=1)\n",
    "        featureScores.columns = ['Feature','Score']  \n",
    "     \n",
    "        topFeaturesIndex = featureScores.nlargest(nbrfeatures,'Score')['Feature'].index\n",
    "        X_train= X_train[:,topFeaturesIndex]\n",
    "        X_test = X_test[:,topFeaturesIndex]\n",
    "    else:\n",
    "        pca = PCA(n_components=nbrfeatures)\n",
    "        X_train = pca.fit_transform(X_train)\n",
    "        X_test = pca.transform(X_test)\n",
    "    return (X_train, X_test)\n",
    "\n",
    "def run_classifier(data):\n",
    "    \n",
    "    X_train, X_test, y_train, y_test = train_test_split(data.values, target_number, test_size=0.20, random_state=0, stratify=target_number)\n",
    "    w=compute_sample_weight(class_weight='balanced', y=y_train) \n",
    "\n",
    "    imputer = Imputer(strategy='mean', missing_values=-1) \n",
    "    X_train_imputed = imputer.fit_transform(X_train)\n",
    "    X_test_imputed = imputer.transform(X_test)\n",
    "\n",
    "    nfeaturesKeras=data.shape[1]\n",
    "    df =  pd.DataFrame( columns=['clf', 'obj', 'scaler', 'f1_score', 'report'])\n",
    "    df.loc[len(df)] = ['Dummy', DummyClassifier(strategy='stratified', random_state=0), None,-1, None]\n",
    "    df.loc[len(df)] = ['LR', LogisticRegression(solver='lbfgs', multi_class='multinomial'), RobustScaler(),-1, None]\n",
    "    df.loc[len(df)] = ['BernoulliNB', BernoulliNB(0.1), RobustScaler(),-1, None]\n",
    "    df.loc[len(df)] = ['GaussianNB', GaussianNB(), RobustScaler(),-1, None]\n",
    "    df.loc[len(df)] = ['MultinomialNB', MultinomialNB(0.1), MinMaxScaler(),-1, None]\n",
    "    df.loc[len(df)] = ['RF', RandomForestClassifier(n_estimators=200, max_depth=50, random_state=0), None,-1, None]\n",
    "    df.loc[len(df)] = ['XGB', xgb.XGBClassifier(n_estimators=40, max_depth=28, learning_rate=1, random_state=0, n_jobs=-1, objective = \"multi:softprob\", num_class = 8, eval_metric = \"mlogloss\"), None,-1, None]\n",
    "    df.loc[len(df)] = ['CatBoost', cb.CatBoostClassifier(iterations=100, depth=1, learning_rate=1, random_state=0, loss_function='MultiClass', logging_level='Silent'), None,-1, None]\n",
    "    df.loc[len(df)] = ['MLP', MLPClassifier(hidden_layer_sizes=(237, 237),max_iter=10, random_state=0), RobustScaler(),-1, None]\n",
    "    df.loc[len(df)] = ['Keras', KerasClassifier(build_fn=create_keras, nfeatures=nfeaturesKeras, nhiddenUnits=295), RobustScaler(),-1, None]\n",
    "    \n",
    "    for index, row in df.iterrows():\n",
    "        classifier = row['obj']\n",
    "        scaler = row['scaler']\n",
    "        \n",
    "        if scaler is not None:\n",
    "            X_train_transformed = X_train_imputed\n",
    "            X_train_transformed[:,numerical] = scaler.fit_transform(X_train_imputed[:,numerical])\n",
    "            X_test_transformed = X_test_imputed\n",
    "            X_test_transformed[:,numerical] = scaler.transform(X_test_imputed[:,numerical])\n",
    "            X_train = X_train_transformed\n",
    "            X_test = X_test_transformed\n",
    "        else:\n",
    "            X_train = X_train_imputed\n",
    "            X_test = X_test_imputed\n",
    "        \n",
    "        if row['clf'] == 'MLP':\n",
    "            classifier.fit(X_train, y_train)\n",
    "        elif row['clf'] == 'Keras':\n",
    "            classifier.fit(X_train, y_train, sample_weight=w, epochs=38, batch_size=10, verbose=0)\n",
    "        else:\n",
    "            classifier.fit(X_train, y_train, sample_weight=w)\n",
    "        \n",
    "        y_test_predicted = classifier.predict(X_test)\n",
    "        \n",
    "        y_test_predicted_label = target_vectoriser(y_test_predicted)\n",
    "        y_test_label = target_vectoriser(y_test)\n",
    "        row['report'] = classification_report(y_test_label, y_test_predicted_label)\n",
    "        df.iloc[index]['f1_score']= metrics.f1_score(y_test, y_test_predicted, average='weighted')\n",
    "\n",
    "    return df\n",
    "\n",
    "\n",
    "def run_classifier_feature_selection(option, data, nfeatures, scaler):\n",
    "    \n",
    "    X_train, X_test, y_train, y_test = train_test_split(data.values, target_number, test_size=0.20, random_state=0, stratify=target_number)\n",
    "    w=compute_sample_weight(class_weight='balanced', y=y_train) \n",
    "    \n",
    "    #IMPUTER & SCALER \n",
    "    imputer = Imputer(strategy='mean', missing_values=-1) \n",
    "    X_train_imputed = imputer.fit_transform(X_train)\n",
    "    X_test_imputed = imputer.transform(X_test)\n",
    "    X_train_transformed = X_train_imputed\n",
    "    X_train_transformed[:,numerical] = scaler.fit_transform(X_train_imputed[:,numerical])\n",
    "    X_test_transformed = X_test_imputed\n",
    "    X_test_transformed[:,numerical] = scaler.transform(X_test_imputed[:,numerical])\n",
    "\n",
    "    #FEATURE SELECTION\n",
    "    X = f_selector(option, data, X_train_transformed, y_train, X_test_transformed, nfeatures)\n",
    "    X_train = X[0]\n",
    "    X_test = X[1]\n",
    "    \n",
    "    #CLASSIFIER\n",
    "    nfeaturesKeras=X_train.shape[1]\n",
    "    df =  pd.DataFrame( columns=['clf', 'obj', 'scaler', 'f1_score', 'report'])\n",
    "    df.loc[len(df)] = ['Dummy', DummyClassifier(strategy='stratified', random_state=0), None,-1, None]\n",
    "    df.loc[len(df)] = ['LR', LogisticRegression(solver='lbfgs', multi_class='multinomial'), RobustScaler(),-1, None]\n",
    "    df.loc[len(df)] = ['BernoulliNB', BernoulliNB(0.1), RobustScaler(),-1, None]\n",
    "    df.loc[len(df)] = ['GaussianNB', GaussianNB(), RobustScaler(),-1, None]\n",
    "    df.loc[len(df)] = ['MultinomialNB', MultinomialNB(0.1), MinMaxScaler(),-1, None]\n",
    "    df.loc[len(df)] = ['RF', RandomForestClassifier(n_estimators=200, max_depth=50, random_state=0), None,-1, None]\n",
    "    df.loc[len(df)] = ['XGB', xgb.XGBClassifier(n_estimators=40, max_depth=28, learning_rate=1, random_state=0, n_jobs=-1, objective = \"multi:softprob\", num_class = 8, eval_metric = \"mlogloss\"), None,-1, None]\n",
    "    df.loc[len(df)] = ['CatBoost', cb.CatBoostClassifier(iterations=100, depth=1, learning_rate=1, random_state=0, loss_function='MultiClass', logging_level='Silent'), None,-1, None]\n",
    "    df.loc[len(df)] = ['MLP', MLPClassifier(hidden_layer_sizes=(237, 237),max_iter=10, random_state=0), RobustScaler(),-1, None]\n",
    "    df.loc[len(df)] = ['Keras', KerasClassifier(build_fn=create_keras, nfeatures=nfeaturesKeras, nhiddenUnits=295), RobustScaler(),-1, None]\n",
    " \n",
    "    for index, row in df.iterrows():\n",
    "        classifier = row['obj']\n",
    "        if row['clf'] == 'MLP':\n",
    "            classifier.fit(X_train, y_train)\n",
    "        elif row['clf'] == 'Keras':\n",
    "            classifier.fit(X_train, y_train, sample_weight=w, epochs=38, batch_size=10, verbose=0)\n",
    "        elif row['clf'] == 'MultinomialNB':\n",
    "            scaler = row['scaler']\n",
    "            X_train=scaler.fit_transform(X_train)\n",
    "            X_test = scaler.transform(X_test)\n",
    "            classifier.fit(X_train, y_train, sample_weight=w)\n",
    "        else:\n",
    "            classifier.fit(X_train, y_train, sample_weight=w)\n",
    "        \n",
    "        y_test_predicted = classifier.predict(X_test)\n",
    "        \n",
    "        y_test_predicted_label = target_vectoriser(y_test_predicted)\n",
    "        y_test_label = target_vectoriser(y_test)\n",
    "        row['report'] = classification_report(y_test_label, y_test_predicted_label)\n",
    "        df.iloc[index]['f1_score']= metrics.f1_score(y_test, y_test_predicted, average='weighted')\n",
    "\n",
    "    return df"
   ]
  },
  {
   "cell_type": "code",
   "execution_count": 10,
   "metadata": {},
   "outputs": [
    {
     "name": "stdout",
     "output_type": "stream",
     "text": [
      "WARNING:tensorflow:From C:\\ProgramData\\Anaconda3\\lib\\site-packages\\tensorflow\\python\\framework\\op_def_library.py:263: colocate_with (from tensorflow.python.framework.ops) is deprecated and will be removed in a future version.\n",
      "Instructions for updating:\n",
      "Colocations handled automatically by placer.\n",
      "WARNING:tensorflow:From C:\\ProgramData\\Anaconda3\\lib\\site-packages\\tensorflow\\python\\ops\\math_ops.py:3066: to_int32 (from tensorflow.python.ops.math_ops) is deprecated and will be removed in a future version.\n",
      "Instructions for updating:\n",
      "Use tf.cast instead.\n",
      "Wall time: 16min 6s\n"
     ]
    }
   ],
   "source": [
    "%%time\n",
    "df = run_classifier(all_data)"
   ]
  },
  {
   "cell_type": "code",
   "execution_count": 11,
   "metadata": {},
   "outputs": [
    {
     "name": "stdout",
     "output_type": "stream",
     "text": [
      "Wall time: 4min\n"
     ]
    }
   ],
   "source": [
    "%%time\n",
    "df_pca = run_classifier_feature_selection('PCA', all_data, 14, StandardScaler())"
   ]
  },
  {
   "cell_type": "code",
   "execution_count": 12,
   "metadata": {},
   "outputs": [
    {
     "name": "stdout",
     "output_type": "stream",
     "text": [
      "Wall time: 2min 34s\n"
     ]
    }
   ],
   "source": [
    "%%time\n",
    "df_chi2 = run_classifier_feature_selection('CHI2', all_data, 14, MinMaxScaler())"
   ]
  },
  {
   "cell_type": "code",
   "execution_count": 13,
   "metadata": {},
   "outputs": [
    {
     "name": "stdout",
     "output_type": "stream",
     "text": [
      "Wall time: 2min 11s\n"
     ]
    }
   ],
   "source": [
    "%%time\n",
    "df_chi22 = run_classifier_feature_selection('CHI2', all_data, 4, MinMaxScaler())"
   ]
  },
  {
   "cell_type": "code",
   "execution_count": 14,
   "metadata": {},
   "outputs": [
    {
     "data": {
      "image/png": "[encoded data removed]",
      "text/plain": [
       "<Figure size 1008x504 with 1 Axes>"
      ]
     },
     "metadata": {
      "needs_background": "light"
     },
     "output_type": "display_data"
    }
   ],
   "source": [
    "g =sns.catplot(data=df, y='f1_score', x='clf', kind=\"bar\", height=7, aspect=2);"
   ]
  },
  {
   "cell_type": "code",
   "execution_count": 15,
   "metadata": {},
   "outputs": [
    {
     "data": {
      "image/png": "[encoded data removed]",
      "text/plain": [
       "<Figure size 1008x504 with 1 Axes>"
      ]
     },
     "metadata": {
      "needs_background": "light"
     },
     "output_type": "display_data"
    }
   ],
   "source": [
    "g =sns.catplot(data=df_pca, y='f1_score', x='clf', kind=\"bar\", height=7, aspect=2);"
   ]
  },
  {
   "cell_type": "code",
   "execution_count": 16,
   "metadata": {},
   "outputs": [
    {
     "data": {
      "image/png": "[encoded data removed]",
      "text/plain": [
       "<Figure size 1008x504 with 1 Axes>"
      ]
     },
     "metadata": {
      "needs_background": "light"
     },
     "output_type": "display_data"
    }
   ],
   "source": [
    "g =sns.catplot(data=df_chi2, y='f1_score', x='clf', kind=\"bar\", height=7, aspect=2);"
   ]
  },
  {
   "cell_type": "code",
   "execution_count": 17,
   "metadata": {},
   "outputs": [
    {
     "data": {
      "image/png": "[encoded data removed]",
      "text/plain": [
       "<Figure size 1008x504 with 1 Axes>"
      ]
     },
     "metadata": {
      "needs_background": "light"
     },
     "output_type": "display_data"
    }
   ],
   "source": [
    "g =sns.catplot(data=df_chi22, y='f1_score', x='clf', kind=\"bar\", height=7, aspect=2);"
   ]
  },
  {
   "cell_type": "code",
   "execution_count": 18,
   "metadata": {},
   "outputs": [],
   "source": [
    "df.set_index('clf', inplace=True)\n",
    "df_pca.set_index('clf', inplace=True)\n",
    "df_chi2.set_index('clf', inplace=True)"
   ]
  },
  {
   "cell_type": "markdown",
   "metadata": {},
   "source": [
    "Random Forest"
   ]
  },
  {
   "cell_type": "code",
   "execution_count": 19,
   "metadata": {},
   "outputs": [
    {
     "name": "stdout",
     "output_type": "stream",
     "text": [
      "                          precision    recall  f1-score   support\n",
      "\n",
      "                       -       0.59      0.91      0.71      3059\n",
      "                 DAMAGED       0.35      0.23      0.28      1159\n",
      "               DIFFERENT       0.43      0.14      0.21       836\n",
      "                    FAKE       0.33      0.04      0.07        24\n",
      "            NOT_RECEIVED       0.52      0.57      0.54      2831\n",
      "SELLER_CANCEL_POSTERIORI       0.50      0.51      0.51      2698\n",
      "               UNDEFINED       0.44      0.17      0.25       790\n",
      "              WITHDRAWAL       0.40      0.24      0.30      1365\n",
      "\n",
      "             avg / total       0.49      0.52      0.48     12762\n",
      "\n"
     ]
    }
   ],
   "source": [
    "print(df.loc['RF']['report'])"
   ]
  },
  {
   "cell_type": "code",
   "execution_count": 20,
   "metadata": {},
   "outputs": [
    {
     "name": "stdout",
     "output_type": "stream",
     "text": [
      "                          precision    recall  f1-score   support\n",
      "\n",
      "                       -       0.57      0.89      0.70      3059\n",
      "                 DAMAGED       0.30      0.18      0.23      1159\n",
      "               DIFFERENT       0.41      0.11      0.17       836\n",
      "                    FAKE       0.00      0.00      0.00        24\n",
      "            NOT_RECEIVED       0.47      0.54      0.50      2831\n",
      "SELLER_CANCEL_POSTERIORI       0.47      0.47      0.47      2698\n",
      "               UNDEFINED       0.40      0.14      0.21       790\n",
      "              WITHDRAWAL       0.35      0.19      0.25      1365\n",
      "\n",
      "             avg / total       0.46      0.49      0.45     12762\n",
      "\n"
     ]
    }
   ],
   "source": [
    "print(df_pca.loc['RF']['report'])"
   ]
  },
  {
   "cell_type": "code",
   "execution_count": 21,
   "metadata": {},
   "outputs": [
    {
     "name": "stdout",
     "output_type": "stream",
     "text": [
      "                          precision    recall  f1-score   support\n",
      "\n",
      "                       -       0.54      0.88      0.67      3059\n",
      "                 DAMAGED       0.23      0.13      0.16      1159\n",
      "               DIFFERENT       0.13      0.38      0.20       836\n",
      "                    FAKE       0.01      0.42      0.01        24\n",
      "            NOT_RECEIVED       0.45      0.08      0.14      2831\n",
      "SELLER_CANCEL_POSTERIORI       0.54      0.19      0.28      2698\n",
      "               UNDEFINED       0.21      0.18      0.19       790\n",
      "              WITHDRAWAL       0.25      0.20      0.22      1365\n",
      "\n",
      "             avg / total       0.42      0.34      0.31     12762\n",
      "\n"
     ]
    }
   ],
   "source": [
    "print(df_chi2.loc['RF']['report'])"
   ]
  }
 ],
 "metadata": {
  "kernelspec": {
   "display_name": "Python 3",
   "language": "python",
   "name": "python3"
  },
  "language_info": {
   "codemirror_mode": {
    "name": "ipython",
    "version": 3
   },
   "file_extension": ".py",
   "mimetype": "text/x-python",
   "name": "python",
   "nbconvert_exporter": "python",
   "pygments_lexer": "ipython3",
   "version": "3.7.0"
  }
 },
 "nbformat": 4,
 "nbformat_minor": 2
}
